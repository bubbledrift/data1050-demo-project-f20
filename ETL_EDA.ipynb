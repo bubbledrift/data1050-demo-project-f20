{
 "cells": [
  {
   "cell_type": "markdown",
   "metadata": {},
   "source": [
    "# ETL_EDA\n",
    "This file records the process of acquiring raw data, traforming them, and loading them into a MongoDB. The data are store (almost) in their raw form."
   ]
  },
  {
   "cell_type": "markdown",
   "metadata": {},
   "source": [
    "## 1. Raw Data from BPA \n",
    "The [dataset](https://transmission.bpa.gov/business/operations/Wind/baltwg.txt) is a continuously updated txt file in csv format. It contains the energy producation and load in the last 5 days. There will be some blank lines at the end for today. It can be retrieved simply by making `requests` without parameters. For more complicated API call, you may need to add query parameters."
   ]
  },
  {
   "cell_type": "code",
   "execution_count": 44,
   "metadata": {},
   "outputs": [
    {
     "name": "stdout",
     "output_type": "stream",
     "text": [
      "submission_date,state,tot_cases,conf_cases,prob_cases,new_case,pnew_case,tot_death,conf_death,prob_death,new_death,pnew_death,created_at,consent_cases,consent_deaths\n",
      "04/01/2021,CA,3570660,3570660,0,2234,0,58090,58090,0,154,0,04/03/2021 12:00:00 AM,Agree,Agree\n",
      "05/31/2021,CA,3685032,3685032,0,644,0,62011,62011,0,5,0,06/02/2021 12:00:00 AM,Agree,Agree\n",
      "02/06/2020,NE,0,,,0,,0,,,0,,03/26/2020 04:22:39 PM,Agree,Agree\n",
      "07/30/2020,ME,3910,3497,413,22,2,123,122,1,2,0,07/31/2020 02:35:06 PM,Agree,Agree\n",
      "02/02/2021,MS,280182,176228,103954,1059,559,6730,4739,1991,13,7,02/04/2021 12:00:00 AM,Agree,Agree\n",
      "05/03/2020,NH,2518,,,89,0,86,,,2,0,05/04/2020 10:49:24 PM,Not agree,Not agree\n",
      "07/31/2020,ND,6602,6602,0,133,0,103,,,0,0,08/01/2020 02:38:12 PM,Agree,Not agree\n",
      "08/11/2020,GU,449,,,15,0,5,,,0,0,08/12/2020 01:50:14 PM,Not agree,Not agree\n",
      "07/07/2020,NE,20150,,,179,0,282,,,-1,0,07/09/2020 12:00:00 AM,Not agree,Not agree\n",
      "01/27/2020,MI,0,,,0,,0,,,0,,03/26/2020 04:22:39 PM,Agree,Agree\n",
      "02/14/2021,CT,267337,2509\n",
      "...\n",
      "10/2021 03:25:35 PM,N/A,Agree\n",
      "04/02/2020,AZ,1598,,,185,,32,,,3,,04/01/2020 04:22:39 PM,Agree,Agree\n",
      "07/19/2020,NJ,178541,,,-10,21,15706,13732,1974,34,27,07/19/2020 12:00:00 AM,Not agree,Agree\n",
      "11/13/2021,RI,183664,,,385,0,2898,,,1,0,12/03/2021 01:45:52 PM,Not agree,N/A\n",
      "02/10/2021,FSM,1,1,0,0,0,0,0,0,0,0,02/11/2021 02:50:55 PM,Agree,Agree\n",
      "08/23/2020,RI,21177,,,95,0,1066,,,1,0,12/03/2021 01:45:52 PM,Not agree,N/A\n",
      "07/06/2021,OR,209494,209494,0,117,0,2782,2782,0,1,0,07/07/2021 02:48:49 PM,Agree,Agree\n",
      "\n"
     ]
    }
   ],
   "source": [
    "import requests\n",
    "\n",
    "url = \"https://data.cdc.gov/api/views/9mfq-cb36/rows.csv?accessType=DOWNLOAD\"\n",
    "req = requests.get(url, timeout=0.5)\n",
    "req.raise_for_status()\n",
    "text = req.text\n",
    "print(text[:1000])\n",
    "print('...')\n",
    "print(text[-500:])"
   ]
  },
  {
   "cell_type": "markdown",
   "metadata": {},
   "source": [
    "## 2. Raw Data to Documents/Dicts\n",
    "Using pandas, it is simple to parse a in-memory string. The first few lines of description need to be skipped. Datetime conversion is made and blank lines are dropped. Now the data can be easily converted to a list of dicts which is what we want for the MongoDB."
   ]
  },
  {
   "cell_type": "code",
   "execution_count": 47,
   "metadata": {},
   "outputs": [
    {
     "data": {
      "text/html": [
       "<div>\n",
       "<style scoped>\n",
       "    .dataframe tbody tr th:only-of-type {\n",
       "        vertical-align: middle;\n",
       "    }\n",
       "\n",
       "    .dataframe tbody tr th {\n",
       "        vertical-align: top;\n",
       "    }\n",
       "\n",
       "    .dataframe thead th {\n",
       "        text-align: right;\n",
       "    }\n",
       "</style>\n",
       "<table border=\"1\" class=\"dataframe\">\n",
       "  <thead>\n",
       "    <tr style=\"text-align: right;\">\n",
       "      <th></th>\n",
       "      <th>state</th>\n",
       "      <th>tot_cases</th>\n",
       "      <th>new_case</th>\n",
       "      <th>pnew_case</th>\n",
       "      <th>Datetime</th>\n",
       "    </tr>\n",
       "  </thead>\n",
       "  <tbody>\n",
       "    <tr>\n",
       "      <th>0</th>\n",
       "      <td>CA</td>\n",
       "      <td>3570660</td>\n",
       "      <td>2234</td>\n",
       "      <td>0.0</td>\n",
       "      <td>2021-04-03 00:00:00</td>\n",
       "    </tr>\n",
       "    <tr>\n",
       "      <th>1</th>\n",
       "      <td>CA</td>\n",
       "      <td>3685032</td>\n",
       "      <td>644</td>\n",
       "      <td>0.0</td>\n",
       "      <td>2021-06-02 00:00:00</td>\n",
       "    </tr>\n",
       "    <tr>\n",
       "      <th>3</th>\n",
       "      <td>ME</td>\n",
       "      <td>3910</td>\n",
       "      <td>22</td>\n",
       "      <td>2.0</td>\n",
       "      <td>2020-07-31 14:35:06</td>\n",
       "    </tr>\n",
       "    <tr>\n",
       "      <th>4</th>\n",
       "      <td>MS</td>\n",
       "      <td>280182</td>\n",
       "      <td>1059</td>\n",
       "      <td>559.0</td>\n",
       "      <td>2021-02-04 00:00:00</td>\n",
       "    </tr>\n",
       "    <tr>\n",
       "      <th>5</th>\n",
       "      <td>NH</td>\n",
       "      <td>2518</td>\n",
       "      <td>89</td>\n",
       "      <td>0.0</td>\n",
       "      <td>2020-05-04 22:49:24</td>\n",
       "    </tr>\n",
       "  </tbody>\n",
       "</table>\n",
       "</div>"
      ],
      "text/plain": [
       "  state  tot_cases  new_case  pnew_case            Datetime\n",
       "0    CA    3570660      2234        0.0 2021-04-03 00:00:00\n",
       "1    CA    3685032       644        0.0 2021-06-02 00:00:00\n",
       "3    ME       3910        22        2.0 2020-07-31 14:35:06\n",
       "4    MS     280182      1059      559.0 2021-02-04 00:00:00\n",
       "5    NH       2518        89        0.0 2020-05-04 22:49:24"
      ]
     },
     "execution_count": 47,
     "metadata": {},
     "output_type": "execute_result"
    }
   ],
   "source": [
    "import pandas as pd\n",
    "from io import StringIO\n",
    "\n",
    "df = pd.read_csv(StringIO(text), usecols=[\"pnew_case\", \"new_case\", \"tot_cases\", \"state\", \"created_at\"], delimiter = ',')\n",
    "df.columns = df.columns.str.strip()             # remove space in columns name\n",
    "df['Datetime'] = pd.to_datetime(df['created_at'])\n",
    "#df.submission_date = pd.to_datetime(df['submission_date'])\n",
    "df.drop(columns=['created_at'], axis=1, inplace=True)\n",
    "df.dropna(inplace=True)  \n",
    "df.head()"
   ]
  },
  {
   "cell_type": "code",
   "execution_count": 48,
   "metadata": {},
   "outputs": [
    {
     "data": {
      "text/plain": [
       "array(['CA', 'ME', 'MS', 'NH', 'ND', 'GU', 'NE', 'CT', 'WI', 'NC', 'AL',\n",
       "       'MO', 'IL', 'NV', 'MI', 'IN', 'WA', 'VT', 'MD', 'DE', 'MT', 'VI',\n",
       "       'ID', 'LA', 'DC', 'NJ', 'RI', 'MN', 'AZ', 'FSM', 'SC', 'KY', 'OR',\n",
       "       'VA', 'WY', 'UT', 'CO', 'AR', 'PW', 'MP', 'MA', 'PR', 'GA', 'NYC',\n",
       "       'AS', 'OK', 'AK', 'KS', 'TX', 'FL', 'WV', 'HI', 'TN', 'PA', 'IA',\n",
       "       'OH', 'RMI', 'SD', 'NY', 'NM'], dtype=object)"
      ]
     },
     "execution_count": 48,
     "metadata": {},
     "output_type": "execute_result"
    }
   ],
   "source": [
    "df.state.unique()"
   ]
  },
  {
   "cell_type": "code",
   "execution_count": 49,
   "metadata": {},
   "outputs": [],
   "source": [
    "ca_df = df[df.state == \"CA\"]\n",
    "me_df = df[df.state == \"ME\"]\n",
    "ms_df = df[df.state == \"MS\"]\n",
    "nh_df = df[df.state == \"NH\"]\n",
    "nd_df = df[df.state == \"ND\"]\n",
    "gu_df = df[df.state == \"GU\"]\n",
    "ne_df = df[df.state == \"NE\"]\n",
    "ct_df = df[df.state == \"CT\"]\n",
    "wi_df = df[df.state == \"WI\"]\n",
    "nc_df = df[df.state == \"NC\"]\n",
    "al_df = df[df.state == \"AL\"]\n",
    "mo_df = df[df.state == \"MO\"]\n",
    "il_df = df[df.state == \"IL\"]\n",
    "nv_df = df[df.state == \"NV\"]\n",
    "mi_df = df[df.state == \"MI\"]\n",
    "in_df = df[df.state == \"IN\"]\n",
    "wa_df = df[df.state == \"WA\"]\n",
    "vt_df = df[df.state == \"VT\"]\n",
    "md_df = df[df.state == \"MD\"]\n",
    "de_df = df[df.state == \"DE\"]\n",
    "mt_df = df[df.state == \"MT\"]\n",
    "vi_df = df[df.state == \"VI\"]\n",
    "id_df = df[df.state == \"ID\"]\n",
    "la_df = df[df.state == \"LA\"]\n",
    "dc_df = df[df.state == \"DC\"]\n",
    "nj_df = df[df.state == \"NJ\"]\n",
    "ri_df = df[df.state == \"RI\"]\n",
    "mn_df = df[df.state == \"MN\"]\n",
    "az_df = df[df.state == \"AZ\"]\n",
    "fsm_df = df[df.state == \"FSM\"]\n",
    "sc_df = df[df.state == \"SC\"]\n",
    "ky_df = df[df.state == \"KY\"]\n",
    "or_df = df[df.state == \"OR\"]\n",
    "va_df = df[df.state == \"VA\"]\n",
    "wy_df = df[df.state == \"WY\"]\n",
    "ut_df = df[df.state == \"UT\"]\n",
    "co_df = df[df.state == \"CO\"]\n",
    "ar_df = df[df.state == \"AR\"]\n",
    "pw_df = df[df.state == \"PW\"]\n",
    "mp_df = df[df.state == \"MP\"]\n",
    "ma_df = df[df.state == \"MA\"]\n",
    "pr_df = df[df.state == \"PR\"]\n",
    "ga_df = df[df.state == \"GA\"]\n",
    "nyc_df = df[df.state == \"NYC\"]\n",
    "as_df = df[df.state == \"AS\"]\n",
    "ok_df = df[df.state == \"OK\"]\n",
    "ak_df = df[df.state == \"AK\"]\n",
    "ks_df = df[df.state == \"KS\"]\n",
    "tx_df = df[df.state == \"TX\"]\n",
    "fl_df = df[df.state == \"FL\"]\n",
    "wv_df = df[df.state == \"WV\"]\n",
    "hi_df = df[df.state == \"HI\"]\n",
    "tn_df = df[df.state == \"TN\"]\n",
    "pa_df = df[df.state == \"PA\"]\n",
    "ia_df = df[df.state == \"IA\"]\n",
    "oh_df = df[df.state == \"OH\"]\n",
    "rmi_df = df[df.state == \"RMI\"]\n",
    "sd_df = df[df.state == \"SD\"]\n",
    "ny_df = df[df.state == \"NY\"]\n",
    "nm_df = df[df.state == \"NM\"]"
   ]
  },
  {
   "cell_type": "code",
   "execution_count": 50,
   "metadata": {},
   "outputs": [
    {
     "name": "stdout",
     "output_type": "stream",
     "text": [
      "number of rows:  37219\n",
      "number of columns:  5\n",
      "state                object\n",
      "tot_cases             int64\n",
      "new_case              int64\n",
      "pnew_case           float64\n",
      "Datetime     datetime64[ns]\n",
      "dtype: object\n"
     ]
    }
   ],
   "source": [
    "# prints the number of rows\n",
    "print('number of rows: ' , df.shape[0])\n",
    "# prints the number of columns\n",
    "print('number of columns: ' , df.shape[1])\n",
    "\n",
    "# prints data types of all columns\n",
    "print(df.dtypes)"
   ]
  },
  {
   "cell_type": "code",
   "execution_count": 51,
   "metadata": {},
   "outputs": [],
   "source": [
    "cat_ftrs = ['state', 'consent_cases', 'consent_deaths']\n",
    "\n",
    "ss_ftrs = ['tot_cases', 'conf_cases', 'prob_cases', 'new_case', 'pnew_case', 'tot_death', 'conf_death', 'prob_death', 'new_death', 'pnew_death']\n",
    "\n",
    "dates = ['submission_date', 'created_at']"
   ]
  },
  {
   "cell_type": "code",
   "execution_count": 52,
   "metadata": {},
   "outputs": [
    {
     "data": {
      "text/html": [
       "<div>\n",
       "<style scoped>\n",
       "    .dataframe tbody tr th:only-of-type {\n",
       "        vertical-align: middle;\n",
       "    }\n",
       "\n",
       "    .dataframe tbody tr th {\n",
       "        vertical-align: top;\n",
       "    }\n",
       "\n",
       "    .dataframe thead th {\n",
       "        text-align: right;\n",
       "    }\n",
       "</style>\n",
       "<table border=\"1\" class=\"dataframe\">\n",
       "  <thead>\n",
       "    <tr style=\"text-align: right;\">\n",
       "      <th></th>\n",
       "      <th>tot_cases</th>\n",
       "      <th>new_case</th>\n",
       "      <th>pnew_case</th>\n",
       "    </tr>\n",
       "  </thead>\n",
       "  <tbody>\n",
       "    <tr>\n",
       "      <th>count</th>\n",
       "      <td>3.721900e+04</td>\n",
       "      <td>37219.000000</td>\n",
       "      <td>37219.000000</td>\n",
       "    </tr>\n",
       "    <tr>\n",
       "      <th>mean</th>\n",
       "      <td>3.697116e+05</td>\n",
       "      <td>1309.671807</td>\n",
       "      <td>182.769795</td>\n",
       "    </tr>\n",
       "    <tr>\n",
       "      <th>std</th>\n",
       "      <td>6.218595e+05</td>\n",
       "      <td>2647.082199</td>\n",
       "      <td>520.764543</td>\n",
       "    </tr>\n",
       "    <tr>\n",
       "      <th>min</th>\n",
       "      <td>0.000000e+00</td>\n",
       "      <td>-10199.000000</td>\n",
       "      <td>-10733.000000</td>\n",
       "    </tr>\n",
       "    <tr>\n",
       "      <th>25%</th>\n",
       "      <td>1.731450e+04</td>\n",
       "      <td>79.500000</td>\n",
       "      <td>0.000000</td>\n",
       "    </tr>\n",
       "    <tr>\n",
       "      <th>50%</th>\n",
       "      <td>1.335400e+05</td>\n",
       "      <td>450.000000</td>\n",
       "      <td>4.000000</td>\n",
       "    </tr>\n",
       "    <tr>\n",
       "      <th>75%</th>\n",
       "      <td>4.762440e+05</td>\n",
       "      <td>1426.000000</td>\n",
       "      <td>146.000000</td>\n",
       "    </tr>\n",
       "    <tr>\n",
       "      <th>max</th>\n",
       "      <td>5.118139e+06</td>\n",
       "      <td>61016.000000</td>\n",
       "      <td>16591.000000</td>\n",
       "    </tr>\n",
       "  </tbody>\n",
       "</table>\n",
       "</div>"
      ],
      "text/plain": [
       "          tot_cases      new_case     pnew_case\n",
       "count  3.721900e+04  37219.000000  37219.000000\n",
       "mean   3.697116e+05   1309.671807    182.769795\n",
       "std    6.218595e+05   2647.082199    520.764543\n",
       "min    0.000000e+00 -10199.000000 -10733.000000\n",
       "25%    1.731450e+04     79.500000      0.000000\n",
       "50%    1.335400e+05    450.000000      4.000000\n",
       "75%    4.762440e+05   1426.000000    146.000000\n",
       "max    5.118139e+06  61016.000000  16591.000000"
      ]
     },
     "execution_count": 52,
     "metadata": {},
     "output_type": "execute_result"
    }
   ],
   "source": [
    "df.describe()"
   ]
  },
  {
   "cell_type": "code",
   "execution_count": 53,
   "metadata": {},
   "outputs": [
    {
     "name": "stdout",
     "output_type": "stream",
     "text": [
      "count    3.721900e+04\n",
      "mean     3.697116e+05\n",
      "std      6.218595e+05\n",
      "min      0.000000e+00\n",
      "25%      1.731450e+04\n",
      "50%      1.335400e+05\n",
      "75%      4.762440e+05\n",
      "max      5.118139e+06\n",
      "Name: tot_cases, dtype: float64\n"
     ]
    },
    {
     "data": {
      "image/png": "[encoded data removed]",
      "text/plain": [
       "<Figure size 432x288 with 1 Axes>"
      ]
     },
     "metadata": {
      "needs_background": "light"
     },
     "output_type": "display_data"
    },
    {
     "name": "stdout",
     "output_type": "stream",
     "text": [
      "count    37219.000000\n",
      "mean      1309.671807\n",
      "std       2647.082199\n",
      "min     -10199.000000\n",
      "25%         79.500000\n",
      "50%        450.000000\n",
      "75%       1426.000000\n",
      "max      61016.000000\n",
      "Name: new_case, dtype: float64\n"
     ]
    },
    {
     "data": {
      "image/png": "[encoded data removed]",
      "text/plain": [
       "<Figure size 432x288 with 1 Axes>"
      ]
     },
     "metadata": {
      "needs_background": "light"
     },
     "output_type": "display_data"
    },
    {
     "name": "stdout",
     "output_type": "stream",
     "text": [
      "count    37219.000000\n",
      "mean       182.769795\n",
      "std        520.764543\n",
      "min     -10733.000000\n",
      "25%          0.000000\n",
      "50%          4.000000\n",
      "75%        146.000000\n",
      "max      16591.000000\n",
      "Name: pnew_case, dtype: float64\n"
     ]
    },
    {
     "data": {
      "image/png": "[encoded data removed]",
      "text/plain": [
       "<Figure size 432x288 with 1 Axes>"
      ]
     },
     "metadata": {
      "needs_background": "light"
     },
     "output_type": "display_data"
    }
   ],
   "source": [
    "import matplotlib\n",
    "from matplotlib import pylab as plt\n",
    "\n",
    "#histograms/bar charts of all features\n",
    "columns = df.columns\n",
    "for col in columns:\n",
    "    if col in ss_ftrs:\n",
    "        print(df[col].describe())\n",
    "        df[col].plot.hist()\n",
    "        plt.xlabel(col)\n",
    "        plt.ylabel('count')\n",
    "        plt.show()"
   ]
  },
  {
   "cell_type": "markdown",
   "metadata": {},
   "source": [
    "## 3. Upsert MongoDB\n",
    "If we fetch the data frequently, there are lots of duplicate data entry between each run. The de-duplication happens at insertion. The MongoDB API to use is `collection.replace_one(filter=..., replacement=..., upsert=True)`. The statement matches a document in MongoDB with `filter`, replaces it with `replacement` if the document exists or inserts `replacement` into the database if `filter` matches nothing. "
   ]
  },
  {
   "cell_type": "code",
   "execution_count": 12,
   "metadata": {},
   "outputs": [],
   "source": [
    "import pymongo\n",
    "\n",
    "client = pymongo.MongoClient()"
   ]
  },
  {
   "cell_type": "code",
   "execution_count": 54,
   "metadata": {},
   "outputs": [
    {
     "name": "stdout",
     "output_type": "stream",
     "text": [
      "rows=37219, update=35649, insert=1570\n"
     ]
    }
   ],
   "source": [
    "db = client.get_database(\"corona\")\n",
    "collections = [\"ca\",\n",
    "\"me\",\n",
    "\"ms\",\n",
    "\"nh\",\n",
    "\"nd\",\n",
    "\"gu\",\n",
    "\"ne\",\n",
    "\"ct\",\n",
    "\"wi\",\n",
    "\"nc\",\n",
    "\"al\",\n",
    "\"mo\",\n",
    "\"il\",\n",
    "\"nv\",\n",
    "\"mi\",\n",
    "\"in\",\n",
    "\"wa\",\n",
    "\"vt\",\n",
    "\"md\",\n",
    "\"de\",\n",
    "\"mt\",\n",
    "\"vi\",\n",
    "\"id\",\n",
    "\"la\",\n",
    "\"dc\",\n",
    "\"nj\",\n",
    "\"ri\",\n",
    "\"mn\",\n",
    "\"az\",\n",
    "\"fsm\",\n",
    "\"sc\",\n",
    "\"ky\",\n",
    "\"or\",\n",
    "\"va\",\n",
    "\"wy\",\n",
    "\"ut\",\n",
    "\"co\",\n",
    "\"ar\",\n",
    "\"pw\",\n",
    "\"mp\",\n",
    "\"ma\",\n",
    "\"pr\",\n",
    "\"ga\",\n",
    "\"nyc\",\n",
    "\"as\",\n",
    "\"ok\",\n",
    "\"ak\",\n",
    "\"ks\",\n",
    "\"tx\",\n",
    "\"fl\",\n",
    "\"wv\",\n",
    "\"hi\",\n",
    "\"tn\",\n",
    "\"pa\",\n",
    "\"ia\",\n",
    "\"oh\",\n",
    "\"rmi\",\n",
    "\"sd\",\n",
    "\"ny\",\n",
    "\"nm\"]\n",
    "\n",
    "state_df = [ca_df,\n",
    "me_df,\n",
    "ms_df,\n",
    "nh_df,\n",
    "nd_df,\n",
    "gu_df,\n",
    "ne_df,\n",
    "ct_df,\n",
    "wi_df,\n",
    "nc_df,\n",
    "al_df,\n",
    "mo_df,\n",
    "il_df,\n",
    "nv_df,\n",
    "mi_df,\n",
    "in_df,\n",
    "wa_df,\n",
    "vt_df,\n",
    "md_df,\n",
    "de_df,\n",
    "mt_df,\n",
    "vi_df,\n",
    "id_df,\n",
    "la_df,\n",
    "dc_df,\n",
    "nj_df,\n",
    "ri_df,\n",
    "mn_df,\n",
    "az_df,\n",
    "fsm_df,\n",
    "sc_df,\n",
    "ky_df,\n",
    "or_df,\n",
    "va_df,\n",
    "wy_df,\n",
    "ut_df,\n",
    "co_df,\n",
    "ar_df,\n",
    "pw_df,\n",
    "mp_df,\n",
    "ma_df,\n",
    "pr_df,\n",
    "ga_df,\n",
    "nyc_df,\n",
    "as_df,\n",
    "ok_df,\n",
    "ak_df,\n",
    "ks_df,\n",
    "tx_df,\n",
    "fl_df,\n",
    "wv_df,\n",
    "hi_df,\n",
    "tn_df,\n",
    "pa_df,\n",
    "ia_df,\n",
    "oh_df,\n",
    "rmi_df,\n",
    "sd_df,\n",
    "ny_df,\n",
    "nm_df]\n",
    "\n",
    "for x in collections:\n",
    "    collection = db.get_collection(x)\n",
    "    update_count = 0\n",
    "    for y in state_df:\n",
    "        for record in y.to_dict('records'):\n",
    "            result = collection.replace_one(\n",
    "                filter={'Datetime': record['Datetime']},    # locate the document if exists\n",
    "                replacement=record,                         # latest document\n",
    "                upsert=True)                                # update if exists, insert if not\n",
    "            if result.matched_count > 0:\n",
    "                update_count += 1\n",
    "print(f\"rows={df.shape[0]}, update={update_count}, \"\n",
    "      f\"insert={df.shape[0]-update_count}\")"
   ]
  },
  {
   "cell_type": "code",
   "execution_count": null,
   "metadata": {},
   "outputs": [],
   "source": []
  }
 ],
 "metadata": {
  "kernelspec": {
   "display_name": "Python 3",
   "language": "python",
   "name": "python3"
  },
  "language_info": {
   "codemirror_mode": {
    "name": "ipython",
    "version": 3
   },
   "file_extension": ".py",
   "mimetype": "text/x-python",
   "name": "python",
   "nbconvert_exporter": "python",
   "pygments_lexer": "ipython3",
   "version": "3.8.8"
  }
 },
 "nbformat": 4,
 "nbformat_minor": 1
}
